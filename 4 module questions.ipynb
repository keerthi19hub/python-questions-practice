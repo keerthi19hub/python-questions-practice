{
 "cells": [
  {
   "cell_type": "code",
   "execution_count": 1,
   "id": "3b9ff7a3-5e8f-4bb7-a85b-a1fb1796c1c4",
   "metadata": {},
   "outputs": [
    {
     "name": "stdin",
     "output_type": "stream",
     "text": [
      " 12\n",
      " 34\n",
      " 66\n"
     ]
    },
    {
     "name": "stdout",
     "output_type": "stream",
     "text": [
      "c is greatest number\n"
     ]
    }
   ],
   "source": [
    "a=int(input())\n",
    "b=int(input())\n",
    "c=int(input())\n",
    "if a>b:\n",
    "    print(\"a is greatest number\")\n",
    "elif b>c:\n",
    "    print(\"b is greatest number\")\n",
    "else:\n",
    "    print(\"c is greatest number\")"
   ]
  },
  {
   "cell_type": "code",
   "execution_count": 1,
   "id": "7fa67cac-c72c-411c-a377-9f78db87a2ce",
   "metadata": {},
   "outputs": [
    {
     "name": "stdin",
     "output_type": "stream",
     "text": [
      " 12\n",
      " 22\n",
      " 45\n"
     ]
    },
    {
     "name": "stdout",
     "output_type": "stream",
     "text": [
      "b is greatest number 22\n"
     ]
    }
   ],
   "source": [
    "a=int(input())\n",
    "b=int(input())\n",
    "c=int(input())\n",
    "if a>b:\n",
    "    print(\"a is greatest number\",a)\n",
    "elif c<a:\n",
    "    print(\"c is greatest number\",c)\n",
    "else:\n",
    "    print(\"b is greatest number\",b)"
   ]
  },
  {
   "cell_type": "code",
   "execution_count": 1,
   "id": "5d17ac43-8c61-4c65-b0c8-7021d31a08df",
   "metadata": {},
   "outputs": [
    {
     "name": "stdin",
     "output_type": "stream",
     "text": [
      " 2\n",
      " 4\n",
      " 5\n",
      " 6\n"
     ]
    },
    {
     "name": "stdout",
     "output_type": "stream",
     "text": [
      "a is smallest\n"
     ]
    }
   ],
   "source": [
    "#3\n",
    "a=int(input())\n",
    "b=int(input())\n",
    "c=int(input())\n",
    "d=int(input())\n",
    "if a<b:\n",
    "    print(\"a is smallest\")\n",
    "elif c>a:\n",
    "    print(\"c is the smallest\")\n",
    "elif b<a:\n",
    "    print(\"b is the smallest\")\n",
    "else:\n",
    "    print(\"d is the smallest\")"
   ]
  },
  {
   "cell_type": "code",
   "execution_count": 3,
   "id": "a5132fc3-851b-4ab3-a0a8-3cced49f9a9b",
   "metadata": {},
   "outputs": [
    {
     "name": "stdin",
     "output_type": "stream",
     "text": [
      "enter the number: -56\n"
     ]
    },
    {
     "name": "stdout",
     "output_type": "stream",
     "text": [
      "a is negative number\n"
     ]
    }
   ],
   "source": [
    "a=int(input(\"enter the number:\"))\n",
    "if a>0:\n",
    "    print(\"a is positive number\")\n",
    "else:\n",
    "    print(\"a is negative number\")"
   ]
  },
  {
   "cell_type": "code",
   "execution_count": 34,
   "id": "623da26a-8a45-447b-b56b-8d0f7ea3af7d",
   "metadata": {},
   "outputs": [
    {
     "name": "stdin",
     "output_type": "stream",
     "text": [
      "enter the year 2100\n"
     ]
    },
    {
     "name": "stdout",
     "output_type": "stream",
     "text": [
      "a is not a leap year\n"
     ]
    }
   ],
   "source": [
    "a=int(input(\"enter the year\"))\n",
    "if ((a%400==0) or (a%100!=0) and (a%4==0)):\n",
    "      print(\"a is a leap year\")\n",
    "else:\n",
    "      print(\"a is not a leap year\")\n"
   ]
  },
  {
   "cell_type": "code",
   "execution_count": 5,
   "id": "4ee7b3ae-ed04-4fc2-a7fb-549189ab71ed",
   "metadata": {},
   "outputs": [
    {
     "name": "stdin",
     "output_type": "stream",
     "text": [
      "enter the number 49\n"
     ]
    },
    {
     "name": "stdout",
     "output_type": "stream",
     "text": [
      "yes\n"
     ]
    }
   ],
   "source": [
    "import math\n",
    "num=int(input(\"enter the number\"))\n",
    "sqrt_num=math.sqrt(num)\n",
    "if sqrt_num.is_integer():\n",
    "    print(\"yes\")\n",
    "else:\n",
    "    print(\"no\")"
   ]
  },
  {
   "cell_type": "code",
   "execution_count": 5,
   "id": "3d33c8d9-20a7-4809-bdd9-ccfebabab6eb",
   "metadata": {},
   "outputs": [
    {
     "name": "stdin",
     "output_type": "stream",
     "text": [
      "enter a character: i\n"
     ]
    },
    {
     "name": "stdout",
     "output_type": "stream",
     "text": [
      "vowel\n"
     ]
    }
   ],
   "source": [
    "chr=input('enter a character:')\n",
    "if chr in('aeiouAEIOU'):\n",
    "    print('vowel')\n",
    "elif chr.isalpha():\n",
    "    print(\"consonant\")\n",
    "else:\n",
    "    print(\"not a alphabet\")"
   ]
  },
  {
   "cell_type": "code",
   "execution_count": 3,
   "id": "35978df4-9489-42ea-a548-44fa201c5a76",
   "metadata": {},
   "outputs": [
    {
     "name": "stdin",
     "output_type": "stream",
     "text": [
      "enter the first number: 3\n",
      "enter the first number: 6\n",
      "enter the first number: 7\n",
      "enter the first number: 8\n"
     ]
    },
    {
     "name": "stdout",
     "output_type": "stream",
     "text": [
      "the smallest number is: 3.0\n"
     ]
    }
   ],
   "source": [
    "#3\n",
    "num1=float(input(\"enter the first number:\"))\n",
    "num2=float(input(\"enter the first number:\"))\n",
    "num3=float(input(\"enter the first number:\"))\n",
    "num4=float(input(\"enter the first number:\"))\n",
    "smallest=num1\n",
    "if num2<smallest:\n",
    "    smallest=num2\n",
    "if num3<smallest:\n",
    "    smallest=num3\n",
    "if num4<smallest:\n",
    "    smallest=num4\n",
    "print(\"the smallest number is:\",smallest)\n"
   ]
  },
  {
   "cell_type": "code",
   "execution_count": 9,
   "id": "dd14341a-f8e4-45ad-ae21-3bb87dee85e3",
   "metadata": {},
   "outputs": [
    {
     "name": "stdin",
     "output_type": "stream",
     "text": [
      "enter the first number: 23\n",
      "enter the second number: 56\n",
      "enter the third number: 78\n",
      "enter the fourth number: 89\n"
     ]
    },
    {
     "name": "stdout",
     "output_type": "stream",
     "text": [
      "the smallest number is: 23\n"
     ]
    }
   ],
   "source": [
    "a=int(input(\"enter the first number:\"))\n",
    "b=int(input(\"enter the second number:\"))\n",
    "c=int(input(\"enter the third number:\"))\n",
    "d=int(input(\"enter the fourth number:\"))\n",
    "e=[a,b,c,d]\n",
    "e.sort()\n",
    "print(\"the smallest number is:\",e[0])"
   ]
  },
  {
   "cell_type": "code",
   "execution_count": 1,
   "id": "91c06f35-5015-4cee-9618-92968e5bbbf9",
   "metadata": {},
   "outputs": [
    {
     "name": "stdin",
     "output_type": "stream",
     "text": [
      " 0\n",
      " 2\n"
     ]
    },
    {
     "name": "stdout",
     "output_type": "stream",
     "text": [
      "y is on positive axis\n"
     ]
    }
   ],
   "source": [
    "x=int(input())\n",
    "y=int(input())\n",
    "if x==0 and y==0:\n",
    "    print(\"origin\")\n",
    "elif x>0 and y>0:\n",
    "    print(\"1st quadrant\")\n",
    "elif x<0 and y>0:\n",
    "    print(\"2nd quadrant\")\n",
    "elif x<0 and y<0:\n",
    "    print(\"3rd quadrant\")\n",
    "elif x>0 and y<0:\n",
    "    print(\"4th quadrant\")\n",
    "elif x==0 and y>0:\n",
    "    print(\"y is on positive axis\")\n",
    "elif x==0 and y<0:\n",
    "    print(\"y is on negative axis\")\n",
    "elif y==0 and x>0:\n",
    "    print(\"x is on positive axis\")\n",
    "elif y==0 and x<0:\n",
    "    print(\"x is on negative axis\")"
   ]
  },
  {
   "cell_type": "code",
   "execution_count": 1,
   "id": "9ac6d556-136b-4d7c-a076-718ee0efc7db",
   "metadata": {},
   "outputs": [
    {
     "name": "stdout",
     "output_type": "stream",
     "text": [
      "1 1 1\n"
     ]
    }
   ],
   "source": [
    "#EXCERISE 3:3RD PROGRAM\n",
    "days=373\n",
    "years=days//365\n",
    "weeks=(days%365)//7\n",
    "months=(days%365)%7\n",
    "print(years,weeks,months)"
   ]
  },
  {
   "cell_type": "code",
   "execution_count": 3,
   "id": "349c2b62-0470-4444-9f19-d9437bcb285b",
   "metadata": {},
   "outputs": [
    {
     "name": "stdout",
     "output_type": "stream",
     "text": [
      "654\n"
     ]
    }
   ],
   "source": [
    "#EXCERISE 3:7TH PROGRAM\n",
    "num=456\n",
    "reversed_num=int(str(num)[::-1])\n",
    "print(reversed_num)"
   ]
  },
  {
   "cell_type": "code",
   "execution_count": null,
   "id": "5cf6416e-0843-4e0b-b4da-2aff7d339742",
   "metadata": {},
   "outputs": [],
   "source": [
    "#EXCERISE 3:8TH PROGRAM\n",
    "weight=50\n",
    "height=1.6\n",
    "bmi=weight/(height**2)\n",
    "print(round(bmi,2))"
   ]
  }
 ],
 "metadata": {
  "kernelspec": {
   "display_name": "Python 3 (ipykernel)",
   "language": "python",
   "name": "python3"
  },
  "language_info": {
   "codemirror_mode": {
    "name": "ipython",
    "version": 3
   },
   "file_extension": ".py",
   "mimetype": "text/x-python",
   "name": "python",
   "nbconvert_exporter": "python",
   "pygments_lexer": "ipython3",
   "version": "3.12.4"
  }
 },
 "nbformat": 4,
 "nbformat_minor": 5
}
