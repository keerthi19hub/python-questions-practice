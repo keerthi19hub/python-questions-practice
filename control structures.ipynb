{
 "cells": [
  {
   "cell_type": "code",
   "execution_count": 1,
   "id": "ef4abad7-e633-48f1-b44e-d80b3a28aa76",
   "metadata": {},
   "outputs": [
    {
     "name": "stdout",
     "output_type": "stream",
     "text": [
      "9\n",
      "7\n"
     ]
    }
   ],
   "source": [
    "a=0\n",
    "c=0\n",
    "m=\"mahendran-6066681\"\n",
    "for i in m:\n",
    "    if i.isalpha():\n",
    "        a+=1\n",
    "    elif i.isdigit():\n",
    "        c+=1\n",
    "print(a)\n",
    "print(c)\n",
    "        "
   ]
  },
  {
   "cell_type": "code",
   "execution_count": 3,
   "id": "ff117432-ff99-4f9d-b598-993175a995b1",
   "metadata": {},
   "outputs": [
    {
     "name": "stdin",
     "output_type": "stream",
     "text": [
      "Enter a number to calculate its factorial: 10\n"
     ]
    },
    {
     "name": "stdout",
     "output_type": "stream",
     "text": [
      "The factorial of10is:3628800\n"
     ]
    }
   ],
   "source": [
    "#same as the below one\n",
    "n=int(input(\"Enter a number to calculate its factorial:\"))\n",
    "result=1\n",
    "for i in range(1,n+1):\n",
    "    result*=i\n",
    "print(f\"The factorial of{n}is:{result}\")\n"
   ]
  },
  {
   "cell_type": "code",
   "execution_count": 5,
   "id": "f0b8f524-1191-4ed5-b836-4de719f4c3a1",
   "metadata": {},
   "outputs": [
    {
     "name": "stdin",
     "output_type": "stream",
     "text": [
      "enter the number 10\n"
     ]
    },
    {
     "name": "stdout",
     "output_type": "stream",
     "text": [
      "3628800\n"
     ]
    }
   ],
   "source": [
    "#same as the above one*******\n",
    "num=int(input('enter the number'))\n",
    "fact=1\n",
    "for i in range(1,num+1):\n",
    "    fact=fact*i\n",
    "print(fact)"
   ]
  },
  {
   "cell_type": "code",
   "execution_count": 11,
   "id": "53e8adfe-994e-4da6-97c5-c22dd571ff9d",
   "metadata": {},
   "outputs": [
    {
     "name": "stdin",
     "output_type": "stream",
     "text": [
      "enter the number: 12\n"
     ]
    },
    {
     "name": "stdout",
     "output_type": "stream",
     "text": [
      "multiplication table of  12\n",
      "12 x 1 = 12\n",
      "12 x 2 = 24\n",
      "12 x 3 = 36\n",
      "12 x 4 = 48\n",
      "12 x 5 = 60\n",
      "12 x 6 = 72\n",
      "12 x 7 = 84\n",
      "12 x 8 = 96\n",
      "12 x 9 = 108\n",
      "12 x 10 = 120\n"
     ]
    }
   ],
   "source": [
    "num=int(input(\"enter the number:\"))\n",
    "print(\"multiplication table of \",num)\n",
    "for i in range(1,11):\n",
    "    print(num,'x',i,'=',num*i)i"
   ]
  },
  {
   "cell_type": "code",
   "execution_count": 13,
   "id": "f19174ba-9f16-4cf4-891a-7a77bff50708",
   "metadata": {},
   "outputs": [
    {
     "name": "stdout",
     "output_type": "stream",
     "text": [
      "odd numbers\n",
      "1\n",
      "3\n",
      "5\n",
      "7\n",
      "9\n",
      "11\n",
      "13\n",
      "15\n",
      "17\n",
      "19\n",
      "21\n",
      "23\n",
      "25\n"
     ]
    }
   ],
   "source": [
    "print(\"odd numbers\")\n",
    "for i in range(1,27):\n",
    "    if i%2==0:\n",
    "        odd=i-1\n",
    "        print(f\"{odd}\")"
   ]
  },
  {
   "cell_type": "code",
   "execution_count": 21,
   "id": "88e92d61-5e26-4c42-a7f8-60068d78535f",
   "metadata": {},
   "outputs": [
    {
     "name": "stdout",
     "output_type": "stream",
     "text": [
      "not palindrome string\n"
     ]
    }
   ],
   "source": [
    "str=\"keerthi\"\n",
    "str=str.lower()\n",
    "str1=reversed(str)\n",
    "if list(str)==list(str1):\n",
    "    print(\"palindrome string\")\n",
    "else:\n",
    "    print(\"not palindrome string\")"
   ]
  },
  {
   "cell_type": "code",
   "execution_count": 5,
   "id": "8d553308-6a9c-4151-b6ac-100b43fbe5e4",
   "metadata": {},
   "outputs": [
    {
     "name": "stdout",
     "output_type": "stream",
     "text": [
      "loop skips\n"
     ]
    }
   ],
   "source": [
    "for index in range(50,30,-3):\n",
    "    if index==50:\n",
    "        print(\"loop skips\")\n",
    "        continue\n",
    "        print(index,end=' ')\n",
    "        print(index)"
   ]
  },
  {
   "cell_type": "code",
   "execution_count": 7,
   "id": "6f426f75-64ba-4948-aca8-ca9d13c942af",
   "metadata": {},
   "outputs": [
    {
     "name": "stdin",
     "output_type": "stream",
     "text": [
      "enter a 1st number 10\n",
      "enter a 2nd number 20\n",
      "enter a 3rd number 30\n"
     ]
    },
    {
     "name": "stdout",
     "output_type": "stream",
     "text": [
      "20\n",
      "the median is: (10, 20, 30)\n"
     ]
    }
   ],
   "source": [
    "a=int(input('enter a 1st number'))\n",
    "b=int(input('enter a 2nd number'))\n",
    "c=int(input('enter a 3rd number'))\n",
    "median=(a,b,c)\n",
    "if (a>b and a<c) or (a<b and a>c):\n",
    "    print(a)\n",
    "elif (b>a and b<c) or (b<a and b>c):\n",
    "    print(b)\n",
    "else:\n",
    "    print(c)\n",
    "print('the median is:',median)"
   ]
  },
  {
   "cell_type": "code",
   "execution_count": 13,
   "id": "afa57310-99e7-4b8e-8e5e-907926db0515",
   "metadata": {},
   "outputs": [
    {
     "name": "stdin",
     "output_type": "stream",
     "text": [
      " 100000\n",
      " 0.07\n",
      " 50\n"
     ]
    },
    {
     "name": "stdout",
     "output_type": "stream",
     "text": [
      "year 1:5000000.00\n",
      "year 2:5350000.00\n",
      "year 3:5724500.00\n",
      "year 4:6125215.00\n",
      "year 5:6553980.05\n",
      "year 6:7012758.65\n",
      "year 7:7503651.76\n",
      "year 8:8028907.38\n",
      "year 9:8590930.90\n",
      "year 10:9192296.06\n"
     ]
    }
   ],
   "source": [
    "initial_population=int(input())\n",
    "growth_rate=float(input())\n",
    "female_precentage=float(input())\n",
    "for year in range(10):\n",
    "    total=initial_population*(1+growth_rate)**year\n",
    "    female=total*female_precentage\n",
    "    print(f\"year {year+1}:{female:.2f}\")"
   ]
  },
  {
   "cell_type": "code",
   "execution_count": null,
   "id": "9a251ce7-7b7e-4ffb-ae5a-1d084d96ecd1",
   "metadata": {},
   "outputs": [],
   "source": []
  }
 ],
 "metadata": {
  "kernelspec": {
   "display_name": "Python 3 (ipykernel)",
   "language": "python",
   "name": "python3"
  },
  "language_info": {
   "codemirror_mode": {
    "name": "ipython",
    "version": 3
   },
   "file_extension": ".py",
   "mimetype": "text/x-python",
   "name": "python",
   "nbconvert_exporter": "python",
   "pygments_lexer": "ipython3",
   "version": "3.12.4"
  }
 },
 "nbformat": 4,
 "nbformat_minor": 5
}
