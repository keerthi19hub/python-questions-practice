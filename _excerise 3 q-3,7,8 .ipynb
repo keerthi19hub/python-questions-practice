{
 "cells": [
  {
   "cell_type": "code",
   "execution_count": 22,
   "id": "5ab4f8aa-a915-4ee9-b42d-368285b3d439",
   "metadata": {},
   "outputs": [
    {
     "name": "stdout",
     "output_type": "stream",
     "text": [
      "1 1 1\n"
     ]
    }
   ],
   "source": [
    "#EXCERISE 3:3RD PROGRAM\n",
    "days=373\n",
    "years=days//365\n",
    "weeks=(days%365)//7\n",
    "months=(days%365)%7\n",
    "print(years,weeks,months)"
   ]
  },
  {
   "cell_type": "code",
   "execution_count": 28,
   "id": "32556236-57b8-4aaa-a488-9429993dcf74",
   "metadata": {},
   "outputs": [
    {
     "name": "stdout",
     "output_type": "stream",
     "text": [
      "654\n"
     ]
    }
   ],
   "source": [
    "#EXCERISE 3:7TH PROGRAM\n",
    "num=456\n",
    "reversed_num=int(str(num)[::-1])\n",
    "print(reversed_num)"
   ]
  },
  {
   "cell_type": "code",
   "execution_count": 26,
   "id": "164e3581-ca82-48ef-80dc-aa427c8e5630",
   "metadata": {},
   "outputs": [
    {
     "name": "stdout",
     "output_type": "stream",
     "text": [
      "19.53\n"
     ]
    }
   ],
   "source": [
    "#EXCERISE 3:8TH PROGRAM\n",
    "weight=50\n",
    "height=1.6\n",
    "bmi=weight/(height**2)\n",
    "print(round(bmi,2))"
   ]
  },
  {
   "cell_type": "code",
   "execution_count": null,
   "id": "8112ea4a-5499-4772-8b43-0bde35078e5e",
   "metadata": {},
   "outputs": [],
   "source": []
  }
 ],
 "metadata": {
  "kernelspec": {
   "display_name": "Python 3 (ipykernel)",
   "language": "python",
   "name": "python3"
  },
  "language_info": {
   "codemirror_mode": {
    "name": "ipython",
    "version": 3
   },
   "file_extension": ".py",
   "mimetype": "text/x-python",
   "name": "python",
   "nbconvert_exporter": "python",
   "pygments_lexer": "ipython3",
   "version": "3.12.4"
  }
 },
 "nbformat": 4,
 "nbformat_minor": 5
}
